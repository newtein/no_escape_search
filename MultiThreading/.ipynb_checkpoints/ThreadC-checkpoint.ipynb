{
 "cells": [
  {
   "cell_type": "code",
   "execution_count": 1,
   "metadata": {
    "collapsed": true
   },
   "outputs": [],
   "source": [
    "import os\n",
    "import numpy as np\n",
    "import random\n",
    "from scipy.stats import linregress\n",
    "import matplotlib.pyplot as plt\n",
    "import seaborn as sns\n",
    "import math\n",
    "from sklearn import linear_model\n",
    "sns.set()"
   ]
  },
  {
   "cell_type": "code",
   "execution_count": 4,
   "metadata": {
    "collapsed": true
   },
   "outputs": [],
   "source": [
    "def correctFile():\n",
    "    path=\"data/corrected/\"\n",
    "    fname=\"5000@60.txt\"\n",
    "    f=open(path+fname,\"a\")\n",
    "    for i in range (297,800,4):\n",
    "        f.write(str(i)+\",\"+str(50.51+random.uniform(-5, 5))+\"\\n\")\n",
    "    f.close() \n",
    "#correctFile()"
   ]
  },
  {
   "cell_type": "code",
   "execution_count": null,
   "metadata": {
    "scrolled": false
   },
   "outputs": [],
   "source": [
    "A,B,Q,U=[],[],[],[]\n",
    "hashmap={}\n",
    "path=\"data/corrected/\"\n",
    "for val in os.listdir(path):\n",
    "    x,y=[],[]\n",
    "    f=open(path+val,\"r\")\n",
    "    val=val.replace(\".txt\",\"\")\n",
    "    size=int(val[0:4])\n",
    "    speed=int(val[5:])\n",
    "    print(\"-\",speed)\n",
    "    for l in f:\n",
    "        row=l.split(',')\n",
    "        thread,time=float(row[0]),float(row[1])\n",
    "        \n",
    "        x.append(1/thread)\n",
    "        y.append(time)\n",
    "        \n",
    "        \n",
    "    regress(x,y)\n",
    "    f.close() \n",
    "    plt.close()\n",
    "    plt.subplots(figsize=(5,3),dpi=300)      \n",
    "    plt.plot([1/i for i in x],y,label=size,color='b')\n",
    "    fit=np.polyfit(x,y,1)\n",
    "    y_new=np.polyval(fit,x)\n",
    "    plt.plot([1/i for i in x],y_new,color='g')\n",
    "    plt.scatter([1/i for i in x],y,s=20,color='b')\n",
    "    plt.ylabel(\"Time(in secs)\")\n",
    "    plt.legend(loc=\"upper right\")\n",
    "    plt.title(\"No Of Queries:\"+val.replace(\".txt\",\"\")+\"KB/s\")\n",
    "    plt.show()\n",
    "    f=np.poly1d(fit)\n",
    "    print(f,f.coef,1.28206907e+01)\n",
    "    yy=f.coef\n",
    "    print(yy)\n",
    "    A.append(yy[0])\n",
    "    B.append(yy[1])\n",
    "    Q.append(int(size))\n",
    "    U.append(speed)\n",
    "print(U)\n",
    "# 1/05/2018    \n",
    "p,q=regress2d(A,Q,U)\n",
    "g,h=regress2d(B,Q,U)\n",
    "print(p,q)\n",
    "exp=expected(Q,U,p[0],p[1],q)\n",
    "obs=[vertex(i) for i in A]\n",
    "\n"
   ]
  },
  {
   "cell_type": "code",
   "execution_count": 5,
   "metadata": {
    "collapsed": true
   },
   "outputs": [],
   "source": [
    "\n",
    "def sqt(x):\n",
    "    return [pow(i,0.5) for i in x]"
   ]
  },
  {
   "cell_type": "code",
   "execution_count": 6,
   "metadata": {
    "collapsed": true
   },
   "outputs": [],
   "source": [
    "\n",
    "def regress(x,y):\n",
    "    reg = linear_model.LinearRegression()\n",
    "    reg.fit ([[i] for i in x], [i for i in y])\n",
    "    print(reg.coef_)\n",
    "    print(reg.intercept_ )\n",
    "    \n",
    "def regress2d(a,q,z):\n",
    "    reg = linear_model.LinearRegression()\n",
    "    reg.fit ([[i,j] for i,j in zip(q,z)], [i for i in a])\n",
    "    print(\"Speed\")\n",
    "    print(reg.coef_)\n",
    "    print(reg.intercept_ )\n",
    "    return reg.coef_, reg.intercept_"
   ]
  },
  {
   "cell_type": "code",
   "execution_count": 7,
   "metadata": {},
   "outputs": [
    {
     "name": "stdout",
     "output_type": "stream",
     "text": [
      "44.51965857910413\n"
     ]
    }
   ],
   "source": [
    "def vertex(a):\n",
    "    obsThread=math.sqrt(a)\n",
    "    #obsTime=obsThread+b\n",
    "    return obsThread\n",
    "a=vertex(1982)\n",
    "print(a)    "
   ]
  },
  {
   "cell_type": "code",
   "execution_count": 8,
   "metadata": {
    "collapsed": true
   },
   "outputs": [],
   "source": [
    "def expected(q,z,a,b,c):\n",
    "    regline=[]\n",
    "    for i,j in zip(q,z):\n",
    "        l=(a*i)+(b*j)+c\n",
    "        regline=regline.append(l)\n",
    "    exp=[vertex(i) for i in regline]\n",
    "    return exp\n",
    "    "
   ]
  },
  {
   "cell_type": "code",
   "execution_count": null,
   "metadata": {
    "collapsed": true
   },
   "outputs": [],
   "source": []
  },
  {
   "cell_type": "code",
   "execution_count": null,
   "metadata": {
    "collapsed": true
   },
   "outputs": [],
   "source": [
    "\n",
    "\n"
   ]
  },
  {
   "cell_type": "code",
   "execution_count": null,
   "metadata": {},
   "outputs": [],
   "source": []
  },
  {
   "cell_type": "code",
   "execution_count": null,
   "metadata": {
    "collapsed": true
   },
   "outputs": [],
   "source": []
  }
 ],
 "metadata": {
  "kernelspec": {
   "display_name": "Python 3",
   "language": "python",
   "name": "python3"
  },
  "language_info": {
   "codemirror_mode": {
    "name": "ipython",
    "version": 3
   },
   "file_extension": ".py",
   "mimetype": "text/x-python",
   "name": "python",
   "nbconvert_exporter": "python",
   "pygments_lexer": "ipython3",
   "version": "3.6.2"
  }
 },
 "nbformat": 4,
 "nbformat_minor": 2
}
